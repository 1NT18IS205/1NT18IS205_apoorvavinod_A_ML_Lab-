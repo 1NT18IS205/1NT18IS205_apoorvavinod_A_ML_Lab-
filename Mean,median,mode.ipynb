{
 "cells": [
  {
   "cell_type": "code",
   "execution_count": 1,
   "metadata": {},
   "outputs": [],
   "source": [
    "import math as mt\n",
    "import statistics as st"
   ]
  },
  {
   "cell_type": "code",
   "execution_count": 4,
   "metadata": {},
   "outputs": [
    {
     "name": "stdout",
     "output_type": "stream",
     "text": [
      "2 8 4 6 3 5 \n",
      "4.666666666666667\n"
     ]
    }
   ],
   "source": [
    "def m1(arr1):\n",
    "    mean=sum(arr1)/len(arr1)\n",
    "    print(mean)\n",
    "arr1=list(map(int,input().split()))\n",
    "m1(arr1)"
   ]
  },
  {
   "cell_type": "code",
   "execution_count": 5,
   "metadata": {},
   "outputs": [
    {
     "data": {
      "text/plain": [
       "4.666666666666667"
      ]
     },
     "execution_count": 5,
     "metadata": {},
     "output_type": "execute_result"
    }
   ],
   "source": [
    "st.mean(arr1)"
   ]
  },
  {
   "cell_type": "code",
   "execution_count": 8,
   "metadata": {},
   "outputs": [
    {
     "name": "stdout",
     "output_type": "stream",
     "text": [
      "1 2 3 4 5\n",
      "Mean:  3.0\n"
     ]
    }
   ],
   "source": [
    "# Python program to print\n",
    "# mean of elements\n",
    "def mean(arr2):\n",
    "    n=len(arr2)\n",
    "    sum=0\n",
    "    for i in range(0,n):\n",
    "        sum+=arr2[i]\n",
    "    mean=sum/n\n",
    "    print(\"Mean: \",mean)\n",
    "arr2=list(map(int,input().split()))\n",
    "mean(arr2)"
   ]
  },
  {
   "cell_type": "code",
   "execution_count": 25,
   "metadata": {},
   "outputs": [
    {
     "data": {
      "text/plain": [
       "3"
      ]
     },
     "execution_count": 25,
     "metadata": {},
     "output_type": "execute_result"
    }
   ],
   "source": [
    "st.mean(arr2)"
   ]
  },
  {
   "cell_type": "code",
   "execution_count": 27,
   "metadata": {},
   "outputs": [
    {
     "name": "stdout",
     "output_type": "stream",
     "text": [
      "2 3 4 7 5\n",
      "Median:  4\n"
     ]
    }
   ],
   "source": [
    "# Python program to print\n",
    "# median of elements\n",
    "def median(arr3):\n",
    "    arr3.sort()\n",
    "    n=len(arr3)\n",
    "    index=0\n",
    "    if n%2!=0:\n",
    "        index=n//2\n",
    "        median=arr[index]\n",
    "    else:\n",
    "        index=n//2\n",
    "        median=(arr3[index]+arr3[index+1])/2\n",
    "    print(\"Median: \",median)\n",
    "    \n",
    "arr3=list(map(int,input().split()))\n",
    "median(arr3)"
   ]
  },
  {
   "cell_type": "code",
   "execution_count": 28,
   "metadata": {},
   "outputs": [
    {
     "data": {
      "text/plain": [
       "4"
      ]
     },
     "execution_count": 28,
     "metadata": {},
     "output_type": "execute_result"
    }
   ],
   "source": [
    "st.median(arr3)"
   ]
  },
  {
   "cell_type": "code",
   "execution_count": 38,
   "metadata": {},
   "outputs": [
    {
     "name": "stdout",
     "output_type": "stream",
     "text": [
      "2 3 4 6 7 4 5 8\n",
      "Mode:  4\n"
     ]
    }
   ],
   "source": [
    "# Python program to print\n",
    "# mode of elements\n",
    "def mode(z):\n",
    "    z.sort()\n",
    "    n=len(z)\n",
    "    md=0\n",
    "    freq=[0]*max(z)\n",
    "    for i in z:\n",
    "        freq[i-1]+=1\n",
    "    md=freq.index(max(freq))+1\n",
    "    print(\"Mode: \",md)\n",
    "#mode1([2,3,4,5,4,4,6,6])\n",
    "z=list(map(int,input().split()))\n",
    "mode(z) "
   ]
  },
  {
   "cell_type": "code",
   "execution_count": 30,
   "metadata": {},
   "outputs": [
    {
     "data": {
      "text/plain": [
       "4"
      ]
     },
     "execution_count": 30,
     "metadata": {},
     "output_type": "execute_result"
    }
   ],
   "source": [
    "st.mode(x)"
   ]
  },
  {
   "cell_type": "code",
   "execution_count": 40,
   "metadata": {},
   "outputs": [
    {
     "name": "stdout",
     "output_type": "stream",
     "text": [
      "2 3 4 6 7 4 5 8\n",
      "Mean:  4.875\n",
      "Variance : 4.125\n"
     ]
    }
   ],
   "source": [
    "# Python program to print\n",
    "# Variance of elements\n",
    "def var(b):\n",
    "    b.sort()\n",
    "    n=len(b)\n",
    "    s=sum(b)\n",
    "    sum_n=0\n",
    "    mean=s/n\n",
    "    for i in b:\n",
    "        sum_n+=pow(i-mean,2)\n",
    "    variance=sum_n/(n-1)\n",
    "    print(\"Mean: \",mean)\n",
    "    print(\"Variance :\",variance)\n",
    "\n",
    "b=list(map(int,input().split()))\n",
    "var(b)    \n",
    "        \n",
    "    "
   ]
  },
  {
   "cell_type": "code",
   "execution_count": 37,
   "metadata": {},
   "outputs": [
    {
     "data": {
      "text/plain": [
       "4.125"
      ]
     },
     "execution_count": 37,
     "metadata": {},
     "output_type": "execute_result"
    }
   ],
   "source": [
    "st.variance(data)"
   ]
  },
  {
   "cell_type": "code",
   "execution_count": 44,
   "metadata": {},
   "outputs": [
    {
     "name": "stdout",
     "output_type": "stream",
     "text": [
      "2 3 4 6 7 4 5 8\n",
      "Standard Deviation: 2.03100960115899\n"
     ]
    }
   ],
   "source": [
    "# Python program to print\n",
    "# Standard deviation of elements\n",
    "import math\n",
    "def st_dev(c):\n",
    "    c.sort()\n",
    "    n=len(c)\n",
    "    s=sum(c)\n",
    "    sum_n=0\n",
    "    mean=s/n\n",
    "    for i in b:\n",
    "        sum_n+=pow(i-mean,2)\n",
    "    variance=sum_n/(n-1)\n",
    "    sd=math.sqrt(variance)\n",
    "    print(\"Standard Deviation:\",sd)\n",
    "    \n",
    "c=list(map(int,input().split()))\n",
    "st_dev(c)    \n",
    "       "
   ]
  },
  {
   "cell_type": "code",
   "execution_count": 43,
   "metadata": {},
   "outputs": [
    {
     "data": {
      "text/plain": [
       "2.03100960115899"
      ]
     },
     "execution_count": 43,
     "metadata": {},
     "output_type": "execute_result"
    }
   ],
   "source": [
    "st.stdev(c)"
   ]
  }
 ],
 "metadata": {
  "kernelspec": {
   "display_name": "Python 3",
   "language": "python",
   "name": "python3"
  },
  "language_info": {
   "codemirror_mode": {
    "name": "ipython",
    "version": 3
   },
   "file_extension": ".py",
   "mimetype": "text/x-python",
   "name": "python",
   "nbconvert_exporter": "python",
   "pygments_lexer": "ipython3",
   "version": "3.6.9"
  }
 },
 "nbformat": 4,
 "nbformat_minor": 2
}
