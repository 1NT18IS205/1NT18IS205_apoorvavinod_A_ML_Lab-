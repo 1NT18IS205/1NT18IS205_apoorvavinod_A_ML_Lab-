{
 "cells": [
  {
   "cell_type": "code",
   "execution_count": 1,
   "metadata": {},
   "outputs": [
    {
     "name": "stdout",
     "output_type": "stream",
     "text": [
      "Hello World\n"
     ]
    }
   ],
   "source": [
    "print(\"Hello World\")"
   ]
  },
  {
   "cell_type": "code",
   "execution_count": null,
   "metadata": {},
   "outputs": [],
   "source": [
    "a=\"hello\"\n",
    "print(a)"
   ]
  },
  {
   "cell_type": "code",
   "execution_count": 4,
   "metadata": {},
   "outputs": [
    {
     "name": "stdout",
     "output_type": "stream",
     "text": [
      "8\n"
     ]
    }
   ],
   "source": [
    "a=3\n",
    "b=5\n",
    "c=a+b\n",
    "print(c)"
   ]
  },
  {
   "cell_type": "code",
   "execution_count": 7,
   "metadata": {},
   "outputs": [
    {
     "name": "stdout",
     "output_type": "stream",
     "text": [
      "a = 8\n",
      "b = 5\n"
     ]
    }
   ],
   "source": [
    "a=5\n",
    "b=8\n",
    "a=a+b\n",
    "b=a-b\n",
    "a=a-b\n",
    "print(\"a =\",a)\n",
    "print(\"b =\",b)"
   ]
  },
  {
   "cell_type": "code",
   "execution_count": 10,
   "metadata": {},
   "outputs": [
    {
     "name": "stdout",
     "output_type": "stream",
     "text": [
      "a is greater than b\n"
     ]
    }
   ],
   "source": [
    "a=8\n",
    "b=7\n",
    "if a>b:\n",
    "    print(\"a is greater than b\")\n",
    "else:\n",
    "    print(\"a is greater than b\")\n",
    "        "
   ]
  },
  {
   "cell_type": "code",
   "execution_count": 18,
   "metadata": {},
   "outputs": [],
   "source": [
    "def check(val):\n",
    "    val=input(\"Enter the value:\")\n",
    "    if val==\"car\":\n",
    "        print(\"car\")\n",
    "    elif val==\"bike\":\n",
    "        print(\"bike\")\n",
    "    else: \n",
    "        print(\"Others\")"
   ]
  },
  {
   "cell_type": "code",
   "execution_count": 21,
   "metadata": {},
   "outputs": [
    {
     "name": "stdout",
     "output_type": "stream",
     "text": [
      "Enter the value:uil\n",
      "Others\n"
     ]
    }
   ],
   "source": [
    "check(\"car\")"
   ]
  },
  {
   "cell_type": "code",
   "execution_count": 23,
   "metadata": {},
   "outputs": [
    {
     "name": "stdout",
     "output_type": "stream",
     "text": [
      "0\n",
      "1\n",
      "2\n",
      "3\n",
      "4\n",
      "5\n",
      "6\n",
      "7\n",
      "8\n",
      "9\n",
      "10\n",
      "11\n",
      "12\n",
      "13\n",
      "14\n",
      "15\n",
      "16\n",
      "17\n",
      "18\n",
      "19\n"
     ]
    }
   ],
   "source": [
    "for i in range(20):\n",
    "    print(i)"
   ]
  },
  {
   "cell_type": "code",
   "execution_count": 37,
   "metadata": {},
   "outputs": [
    {
     "name": "stdout",
     "output_type": "stream",
     "text": [
      "Enter first operand:8\n",
      "Enter sepnd operand:4\n",
      "Enter the operator:*\n",
      "multiplication: 32\n"
     ]
    }
   ],
   "source": [
    "def calc(a,b,op):\n",
    "    if op == \"+\":\n",
    "        print(\"addition:\",a+b)\n",
    "    elif op == \"-\":\n",
    "        print(\"subtraction:\",a-b)\n",
    "    elif op == \"*\":\n",
    "        print(\"multiplication:\",a*b)\n",
    "    elif op == \"/\":\n",
    "        print(\"division:\",a/b)\n",
    "a=int(input(\"Enter first operand:\"))\n",
    "b=int(input(\"Enter sepnd operand:\"))\n",
    "op=input(\"Enter the operator:\")\n",
    "calc(a,b,op)"
   ]
  },
  {
   "cell_type": "code",
   "execution_count": 40,
   "metadata": {},
   "outputs": [
    {
     "name": "stdout",
     "output_type": "stream",
     "text": [
      "Enter the string 1:Burger \n",
      "Enter the string 2:King\n",
      "concatinated string: Burger King\n"
     ]
    }
   ],
   "source": [
    "def concat(str1,str2):\n",
    "    print(\"concatinated string:\",str1+str2)\n",
    "str1=input(\"Enter the string 1:\")\n",
    "str2=input(\"Enter the string 2:\")\n",
    "concat(str1,str2)"
   ]
  },
  {
   "cell_type": "code",
   "execution_count": 42,
   "metadata": {},
   "outputs": [
    {
     "name": "stdout",
     "output_type": "stream",
     "text": [
      "Enter the string 1:Hello\n",
      "Enter the string 2:Hiii\n",
      "2nd string is greater\n"
     ]
    }
   ],
   "source": [
    "def compare(str1,str2):\n",
    "    if str1.lower()==str2.lower():\n",
    "        print(\"strings are equal\")\n",
    "    elif str1.lower()>str2.lower():\n",
    "        print(\"1st string is greater\")\n",
    "    else:\n",
    "        print(\"2nd string is greater\")\n",
    "str1=input(\"Enter the string 1:\")\n",
    "str2=input(\"Enter the string 2:\")\n",
    "compare(str1,str2)"
   ]
  },
  {
   "cell_type": "code",
   "execution_count": 48,
   "metadata": {},
   "outputs": [
    {
     "name": "stdout",
     "output_type": "stream",
     "text": [
      "reversed string: aylam\n"
     ]
    }
   ],
   "source": [
    "def reverse(str):\n",
    "    rev=\"\"\n",
    "    for i in str:\n",
    "        rev=i+rev\n",
    "    print(\"reversed string:\",rev)\n",
    "reverse(\"malya\")\n"
   ]
  },
  {
   "cell_type": "code",
   "execution_count": 49,
   "metadata": {},
   "outputs": [
    {
     "name": "stdout",
     "output_type": "stream",
     "text": [
      "pleh\n"
     ]
    }
   ],
   "source": [
    "def rev(str):\n",
    "    print(str[::-1])\n",
    "rev(\"help\")"
   ]
  },
  {
   "cell_type": "code",
   "execution_count": null,
   "metadata": {},
   "outputs": [],
   "source": [
    "def copy(str1):\n",
    "    str2=str1\n",
    "    print(\"copied string: \",str2)\n",
    "\n",
    "copy(\"hi\")"
   ]
  },
  {
   "cell_type": "code",
   "execution_count": 8,
   "metadata": {},
   "outputs": [
    {
     "name": "stdout",
     "output_type": "stream",
     "text": [
      "10\n",
      "20\n",
      "30\n",
      "40\n",
      "50\n",
      "[10, 50, 30, 40, 50, 10, 'hello', 12.25]\n",
      "[10, 50, 30, 40, 50, 20]\n"
     ]
    },
    {
     "data": {
      "text/plain": [
       "20"
      ]
     },
     "execution_count": 8,
     "metadata": {},
     "output_type": "execute_result"
    }
   ],
   "source": [
    "lst=[10,20,30,40,50]\n",
    "lst1=[10,\"hello\",12.25]\n",
    "for i in lst:\n",
    "    print(i)\n",
    "lst[1]=50\n",
    "print(lst+lst1)\n",
    "lst[1:3]\n",
    "lst.append(20)\n",
    "print(lst)\n",
    "lst.pop()"
   ]
  },
  {
   "cell_type": "code",
   "execution_count": 18,
   "metadata": {},
   "outputs": [
    {
     "name": "stdout",
     "output_type": "stream",
     "text": [
      "hello\n",
      "hii\n",
      "welcome\n"
     ]
    }
   ],
   "source": [
    "dict={1:20,2:\"hello\"}\n",
    "dict1={\"one\":\"hello\",\"two\":\"hii\",\"three\":\"welcome\"}\n",
    "for key in dict1:\n",
    "    print(dict1[key])"
   ]
  }
 ],
 "metadata": {
  "kernelspec": {
   "display_name": "Python 3",
   "language": "python",
   "name": "python3"
  },
  "language_info": {
   "codemirror_mode": {
    "name": "ipython",
    "version": 3
   },
   "file_extension": ".py",
   "mimetype": "text/x-python",
   "name": "python",
   "nbconvert_exporter": "python",
   "pygments_lexer": "ipython3",
   "version": "3.6.9"
  }
 },
 "nbformat": 4,
 "nbformat_minor": 2
}
