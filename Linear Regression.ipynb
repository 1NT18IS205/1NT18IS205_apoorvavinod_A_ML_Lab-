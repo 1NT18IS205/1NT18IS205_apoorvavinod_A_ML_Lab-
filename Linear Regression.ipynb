{
 "cells": [
  {
   "cell_type": "code",
   "execution_count": 2,
   "metadata": {},
   "outputs": [],
   "source": [
    "import numpy as np\n",
    "import pandas as pd\n",
    "import math\n",
    "import operator\n",
    "import matplotlib.pyplot as plt\n",
    "%matplotlib inline"
   ]
  },
  {
   "cell_type": "code",
   "execution_count": 7,
   "metadata": {},
   "outputs": [
    {
     "name": "stdout",
     "output_type": "stream",
     "text": [
      "        X        Y\n",
      "0  6.1101  17.5920\n",
      "1  5.5277   9.1302\n",
      "2  8.5186  13.6620\n",
      "3  7.0032  11.8540\n",
      "4  5.8598   6.8233\n"
     ]
    }
   ],
   "source": [
    "data = pd.read_csv(\"Food-Truck-LineReg.csv\")\n",
    "print(data.head())"
   ]
  },
  {
   "cell_type": "code",
   "execution_count": 9,
   "metadata": {},
   "outputs": [],
   "source": [
    "# collecting x & y\n",
    "x1 = data['X'].values\n",
    "y1 = data['Y'].values"
   ]
  },
  {
   "cell_type": "code",
   "execution_count": 23,
   "metadata": {},
   "outputs": [
    {
     "name": "stdout",
     "output_type": "stream",
     "text": [
      "r = 0.8378732325263407\n",
      "m =  1.1930336441895937\n",
      "C =  -3.895780878311852\n",
      "Y_pred [ 3.39377399  2.6989512   6.26719552  4.45927234  3.09515767  6.10530086\n",
      "  5.02381586  6.33818102  3.84247394  2.13452698  2.91727635 13.00234766\n",
      "  2.94507404  6.13572322  2.833764    2.52202431  3.69835548  2.22460102\n",
      "  3.77494824  4.53992141  3.48802365 20.28701109  2.65409313  3.65146926\n",
      "  2.74333205 18.70624151 11.40845471  9.17628876 11.82363042 22.59314512\n",
      "  2.37050903  3.96559502  7.13763287  3.13333475  5.90033768  5.56903223\n",
      "  5.7629002   2.79272364 11.41799898  3.68403908  2.55483273  4.31527318\n",
      " 10.07225703  2.99243747  5.43934948  4.56652606  2.1531383   3.02548451\n",
      " 10.06271276  2.71553436  5.09993141  2.43648379  4.96118159  5.17497322\n",
      "  3.65946258  3.69060076  3.58955081  2.83257096  7.21160096  7.38268198\n",
      "  6.63321825  2.28329828 21.49078204 13.88996469 18.72294398  4.71577457\n",
      "  6.0005525   8.3161115   2.66518834 20.37171648  8.19680814  4.85452438\n",
      "  3.2698178   4.72496093  2.10147995  3.91608412  5.09802255  2.11293307\n",
      "  8.36144678  2.19787707  2.93934748  2.29415488  3.68678305  7.75860688\n",
      "  3.87790704  6.26552528  7.05650658  3.26480705  2.69024205  2.14025354\n",
      "  2.91369725  5.21493985  3.10816174  2.43373982  5.99852435 12.08371175\n",
      "  2.59062374]\n"
     ]
    },
    {
     "data": {
      "image/png": "[encoded data removed]",
      "text/plain": [
       "<Figure size 432x288 with 1 Axes>"
      ]
     },
     "metadata": {},
     "output_type": "display_data"
    },
    {
     "name": "stdout",
     "output_type": "stream",
     "text": [
      "SSE = 868.5324469391842\n",
      "SSr = 2046.3146047180403\n",
      "SST = 2914.8470516572247\n",
      "0.7020315537841398\n"
     ]
    }
   ],
   "source": [
    "X=np.array(list(zip(x1)))\n",
    "Y=np.array(list(zip(y1)))\n",
    "import scipy.stats\n",
    "r=scipy.stats.pearsonr(x1,y1)[0]\n",
    "std_x=np.std(x1)\n",
    "std_y=np.std(y1)\n",
    "print(\"r =\",r)\n",
    "m=r*(std_y/std_x)\n",
    "print(\"m = \",m)\n",
    "C=np.mean(y1)-m*np.mean(x1)\n",
    "print(\"C = \",C)\n",
    "Y_pred=m*(x1)+C\n",
    "print(\"Y_pred\",Y_pred)\n",
    "plt.scatter(X,Y)\n",
    "plt.plot(X,Y_pred,color=\"red\")\n",
    "plt.show()\n",
    "sub=((y1-Y_pred)**2)\n",
    "sse=sum(sub)\n",
    "sse\n",
    "print(\"SSE =\",sse)\n",
    "mean_y=np.mean(y1)\n",
    "sub1=((Y_pred-mean_y)**2)\n",
    "ssr=sum(sub1)\n",
    "ssr\n",
    "print(\"SSr =\",ssr)\n",
    "sub2=((y1-mean_y)**2)\n",
    "sst=sum(sub2)\n",
    "sst\n",
    "print(\"SST =\",sst)\n",
    "R=ssr/sst\n",
    "R\n",
    "print(R)"
   ]
  }
 ],
 "metadata": {
  "kernelspec": {
   "display_name": "Python 3",
   "language": "python",
   "name": "python3"
  },
  "language_info": {
   "codemirror_mode": {
    "name": "ipython",
    "version": 3
   },
   "file_extension": ".py",
   "mimetype": "text/x-python",
   "name": "python",
   "nbconvert_exporter": "python",
   "pygments_lexer": "ipython3",
   "version": "3.6.9"
  }
 },
 "nbformat": 4,
 "nbformat_minor": 2
}
