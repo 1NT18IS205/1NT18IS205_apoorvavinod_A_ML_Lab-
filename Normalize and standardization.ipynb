{
 "cells": [
  {
   "cell_type": "code",
   "execution_count": 48,
   "metadata": {},
   "outputs": [
    {
     "name": "stdout",
     "output_type": "stream",
     "text": [
      "[0.         1.         0.25438596 0.8245614 ]\n"
     ]
    }
   ],
   "source": [
    "#Nomalization without library\n",
    "import numpy as np\n",
    "dataset = np.array([1.0, 12.4, 3.9, 10.4])\n",
    "normalized_dataset = (dataset - np.min(dataset)) / (np.max(dataset) - np.min(dataset))\n",
    "print(normalized_dataset)"
   ]
  },
  {
   "cell_type": "code",
   "execution_count": 56,
   "metadata": {},
   "outputs": [
    {
     "name": "stdout",
     "output_type": "stream",
     "text": [
      "[[50, 30], [20, 90]]\n",
      "[[20, 50], [30, 90]]\n",
      "[[1.0, 0.0], [0.0, 1.0]]\n"
     ]
    }
   ],
   "source": [
    "#Nomalization without library\n",
    "def dataset_minmax(dataset1):\n",
    "    minmax = list()\n",
    "    for i in range(len(dataset1[0])):\n",
    "        col_values = [row[i] for row in dataset1]\n",
    "        value_min = min(col_values)\n",
    "        value_max = max(col_values)\n",
    "        minmax.append([value_min, value_max])\n",
    "    return minmax\n",
    " \n",
    "# Rescale dataset columns to the range 0-1\n",
    "def normalize_dataset(dataset1,minmax):\n",
    "    for row in dataset1:\n",
    "        for i in range(len(row)):\n",
    "            row[i] = (row[i] - minmax[i][0]) / (minmax[i][1] - minmax[i][0])\n",
    " \n",
    "# Contrive small dataset\n",
    "dataset1= [[50, 30], [20, 90]]\n",
    "print(dataset1)\n",
    "# Calculate min and max for each column\n",
    "minmax = dataset_minmax(dataset1)\n",
    "print(minmax)\n",
    "# Normalize columns\n",
    "normalize_dataset(dataset1,minmax)\n",
    "print(dataset1)"
   ]
  },
  {
   "cell_type": "code",
   "execution_count": 57,
   "metadata": {},
   "outputs": [
    {
     "data": {
      "text/plain": [
       "array([[0.8, 0.2, 0.4, 0.4],\n",
       "       [0.1, 0.3, 0.9, 0.3],\n",
       "       [0.5, 0.7, 0.5, 0.1]])"
      ]
     },
     "execution_count": 57,
     "metadata": {},
     "output_type": "execute_result"
    }
   ],
   "source": [
    "#Nomalization using sklearn normalizer\n",
    "from sklearn.preprocessing import Normalizer\n",
    "X = [[4, 1, 2, 2],\n",
    "     [1, 3, 9, 3],\n",
    "     [5, 7, 5, 1]]\n",
    "transformer = Normalizer().fit(X)  # fit does nothing.\n",
    "transformer\n",
    "transformer.transform(X)\n",
    "#print(transformer)"
   ]
  },
  {
   "cell_type": "code",
   "execution_count": 58,
   "metadata": {},
   "outputs": [
    {
     "name": "stdout",
     "output_type": "stream",
     "text": [
      "Scaler used:  StandardScaler()\n",
      "Scaler mean: [0.5 0.5]\n",
      "Tranform data: [[-1. -1.]\n",
      " [-1. -1.]\n",
      " [ 1.  1.]\n",
      " [ 1.  1.]]\n",
      "Data [[3. 3.]]\n",
      "[0.         1.         0.25438596 0.8245614 ]\n"
     ]
    }
   ],
   "source": [
    "#Nomalization using sklearn Standard scaler\n",
    "from sklearn.preprocessing import StandardScaler\n",
    "data = [[0, 0], [0, 0], [1, 1], [1, 1]]\n",
    "scaler = StandardScaler()\n",
    "print(\"Scaler used: \",scaler.fit(data))\n",
    "\n",
    "print(\"Scaler mean:\",scaler.mean_)\n",
    "\n",
    "print(\"Tranform data:\",scaler.transform(data))\n",
    "print(\"Data\",scaler.transform([[2, 2]]))\n",
    "import numpy as np\n",
    "dataset = np.array([1.0, 12.4, 3.9, 10.4])\n",
    "normalized_dataset = (dataset - np.min(dataset)) / (np.max(dataset) - np.min(dataset))\n",
    "print(normalized_dataset)"
   ]
  },
  {
   "cell_type": "code",
   "execution_count": 59,
   "metadata": {},
   "outputs": [
    {
     "data": {
      "text/plain": [
       "0.5"
      ]
     },
     "execution_count": 59,
     "metadata": {},
     "output_type": "execute_result"
    }
   ],
   "source": [
    "import numpy as np\n",
    "np.mean(data)"
   ]
  },
  {
   "cell_type": "code",
   "execution_count": 60,
   "metadata": {},
   "outputs": [
    {
     "name": "stdout",
     "output_type": "stream",
     "text": [
      "[-1.37198868 -0.17149859  1.02899151  1.02899151  1.02899151 -0.17149859\n",
      " -1.37198868]\n"
     ]
    }
   ],
   "source": [
    "#Standardization using python\n",
    "import numpy as np\n",
    "dataset2 = np.array([1.0, 2.0, 3.0, 3.0, 3.0, 2.0, 1.0])\n",
    "standardized_dataset = (dataset2 - np.average(dataset2)) / (np.std(dataset2))\n",
    "print(standardized_dataset)"
   ]
  },
  {
   "cell_type": "code",
   "execution_count": 61,
   "metadata": {},
   "outputs": [
    {
     "name": "stdout",
     "output_type": "stream",
     "text": [
      "Standardized_datset: [[-1.37198868]\n",
      " [-0.17149859]\n",
      " [ 1.02899151]\n",
      " [ 1.02899151]\n",
      " [ 1.02899151]\n",
      " [-0.17149859]\n",
      " [-1.37198868]]\n",
      "Mean of Standardized_dataset:  3.172065784643304e-17\n",
      "Standard deviation of Standardized_dataset:  1.0\n"
     ]
    }
   ],
   "source": [
    "#Standardization using sklearn\n",
    "import numpy as np\n",
    "from sklearn.preprocessing import StandardScaler\n",
    "dataset3 = np.array([1.0, 2.0, 3.0, 3.0, 3.0, 2.0, 1.0]).reshape(-1, 1)\n",
    "scaler = StandardScaler()\n",
    "scaler.fit(dataset3)\n",
    "standardized_dataset = scaler.transform(dataset3)\n",
    "print(\"Standardized_datset:\",standardized_dataset)\n",
    "print(\"Mean of Standardized_dataset: \",np.mean(standardized_dataset))\n",
    "print(\"Standard deviation of Standardized_dataset: \",np.std(standardized_dataset))"
   ]
  },
  {
   "cell_type": "code",
   "execution_count": 62,
   "metadata": {},
   "outputs": [
    {
     "data": {
      "text/plain": [
       "2.142857142857143"
      ]
     },
     "execution_count": 62,
     "metadata": {},
     "output_type": "execute_result"
    }
   ],
   "source": [
    "import numpy as np\n",
    "np.mean(dataset3)"
   ]
  },
  {
   "cell_type": "code",
   "execution_count": null,
   "metadata": {},
   "outputs": [],
   "source": []
  }
 ],
 "metadata": {
  "kernelspec": {
   "display_name": "Python 3",
   "language": "python",
   "name": "python3"
  },
  "language_info": {
   "codemirror_mode": {
    "name": "ipython",
    "version": 3
   },
   "file_extension": ".py",
   "mimetype": "text/x-python",
   "name": "python",
   "nbconvert_exporter": "python",
   "pygments_lexer": "ipython3",
   "version": "3.6.9"
  }
 },
 "nbformat": 4,
 "nbformat_minor": 2
}
